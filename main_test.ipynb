{
  "nbformat": 4,
  "nbformat_minor": 0,
  "metadata": {
    "colab": {
      "provenance": []
    },
    "kernelspec": {
      "name": "python3",
      "display_name": "Python 3"
    },
    "language_info": {
      "name": "python"
    }
  },
  "cells": [
    {
      "cell_type": "markdown",
      "source": [
        "# Data Preparation"
      ],
      "metadata": {
        "id": "lMgf7CYdM5qp"
      }
    },
    {
      "cell_type": "code",
      "execution_count": 60,
      "metadata": {
        "id": "HIMKogQ4MYuw"
      },
      "outputs": [],
      "source": [
        "# import the necessary libraries\n",
        "import pandas as pd\n",
        "import numpy as np\n",
        "import seaborn as sns\n",
        "import matplotlib.pyplot as plt\n",
        "%matplotlib inline"
      ]
    },
    {
      "cell_type": "code",
      "source": [
        "# load dataset\n",
        "df1= pd.read_csv(\"https://raw.githubusercontent.com/learning-enisda/tpdm-kelompok13/master/datasets/tiktok_google_play_reviews.csv\")"
      ],
      "metadata": {
        "id": "6damQGm2NrLy"
      },
      "execution_count": 61,
      "outputs": []
    },
    {
      "cell_type": "markdown",
      "source": [
        "# Data Insight"
      ],
      "metadata": {
        "id": "SWGqeZpJN6-o"
      }
    },
    {
      "cell_type": "code",
      "source": [
        "# take five samples of data randomly\n",
        "df1.sample(5)"
      ],
      "metadata": {
        "colab": {
          "base_uri": "https://localhost:8080/",
          "height": 206
        },
        "id": "GA7cUXsSOBLe",
        "outputId": "c98ffd8a-5964-481b-d449-7a1a57685ff4"
      },
      "execution_count": 62,
      "outputs": [
        {
          "output_type": "execute_result",
          "data": {
            "text/plain": [
              "                                                 reviewId  \\\n",
              "198335  gp:AOqpTOGSp_ea0QpIMRUevGZQIjYJHzkgzovZN6bzYju...   \n",
              "287940  gp:AOqpTOFDfep5OuEz5Mf50a5kk-Pfpyj4TS5v1R99k-7...   \n",
              "22879   gp:AOqpTOErpheNMRuWPlPwe16jzQm0SDnPfq5oqGZ_ZyM...   \n",
              "187081  gp:AOqpTOH3uKBKM-_9I2jQLj2vCQrK-Mm0qN0-bHuRWse...   \n",
              "227764  gp:AOqpTOHPPb2BXG2VOAjRZIvFmDB1wzyd1x2PG0jWzTK...   \n",
              "\n",
              "                    userName  \\\n",
              "198335           Babba Nalie   \n",
              "287940    rimsha khan rimsha   \n",
              "22879            Marine Base   \n",
              "187081         Robby Geerman   \n",
              "227764  Masika Happy Rosette   \n",
              "\n",
              "                                                userImage  \\\n",
              "198335  https://play-lh.googleusercontent.com/a-/AOh14...   \n",
              "287940  https://play-lh.googleusercontent.com/a/AATXAJ...   \n",
              "22879   https://play-lh.googleusercontent.com/a-/AOh14...   \n",
              "187081  https://play-lh.googleusercontent.com/a/AATXAJ...   \n",
              "227764  https://play-lh.googleusercontent.com/a/AATXAJ...   \n",
              "\n",
              "                    content  score  thumbsUpCount reviewCreatedVersion  \\\n",
              "198335               Artist      5              0               23.1.4   \n",
              "287940  this app is my love      5              0                  NaN   \n",
              "22879             Love it 😊      5              0               23.8.4   \n",
              "187081             Love you      5              0                  NaN   \n",
              "227764            azawi bae      5              0                  NaN   \n",
              "\n",
              "                         at replyContent repliedAt  \n",
              "198335  2022-02-15 23:22:34          NaN       NaN  \n",
              "287940  2022-01-22 10:08:50          NaN       NaN  \n",
              "22879   2022-03-31 02:04:44          NaN       NaN  \n",
              "187081  2022-02-18 21:44:31          NaN       NaN  \n",
              "227764  2022-02-07 19:37:06          NaN       NaN  "
            ],
            "text/html": [
              "\n",
              "  <div id=\"df-b5f6ab87-a587-40b2-9e9c-32b20f344525\">\n",
              "    <div class=\"colab-df-container\">\n",
              "      <div>\n",
              "<style scoped>\n",
              "    .dataframe tbody tr th:only-of-type {\n",
              "        vertical-align: middle;\n",
              "    }\n",
              "\n",
              "    .dataframe tbody tr th {\n",
              "        vertical-align: top;\n",
              "    }\n",
              "\n",
              "    .dataframe thead th {\n",
              "        text-align: right;\n",
              "    }\n",
              "</style>\n",
              "<table border=\"1\" class=\"dataframe\">\n",
              "  <thead>\n",
              "    <tr style=\"text-align: right;\">\n",
              "      <th></th>\n",
              "      <th>reviewId</th>\n",
              "      <th>userName</th>\n",
              "      <th>userImage</th>\n",
              "      <th>content</th>\n",
              "      <th>score</th>\n",
              "      <th>thumbsUpCount</th>\n",
              "      <th>reviewCreatedVersion</th>\n",
              "      <th>at</th>\n",
              "      <th>replyContent</th>\n",
              "      <th>repliedAt</th>\n",
              "    </tr>\n",
              "  </thead>\n",
              "  <tbody>\n",
              "    <tr>\n",
              "      <th>198335</th>\n",
              "      <td>gp:AOqpTOGSp_ea0QpIMRUevGZQIjYJHzkgzovZN6bzYju...</td>\n",
              "      <td>Babba Nalie</td>\n",
              "      <td>https://play-lh.googleusercontent.com/a-/AOh14...</td>\n",
              "      <td>Artist</td>\n",
              "      <td>5</td>\n",
              "      <td>0</td>\n",
              "      <td>23.1.4</td>\n",
              "      <td>2022-02-15 23:22:34</td>\n",
              "      <td>NaN</td>\n",
              "      <td>NaN</td>\n",
              "    </tr>\n",
              "    <tr>\n",
              "      <th>287940</th>\n",
              "      <td>gp:AOqpTOFDfep5OuEz5Mf50a5kk-Pfpyj4TS5v1R99k-7...</td>\n",
              "      <td>rimsha khan rimsha</td>\n",
              "      <td>https://play-lh.googleusercontent.com/a/AATXAJ...</td>\n",
              "      <td>this app is my love</td>\n",
              "      <td>5</td>\n",
              "      <td>0</td>\n",
              "      <td>NaN</td>\n",
              "      <td>2022-01-22 10:08:50</td>\n",
              "      <td>NaN</td>\n",
              "      <td>NaN</td>\n",
              "    </tr>\n",
              "    <tr>\n",
              "      <th>22879</th>\n",
              "      <td>gp:AOqpTOErpheNMRuWPlPwe16jzQm0SDnPfq5oqGZ_ZyM...</td>\n",
              "      <td>Marine Base</td>\n",
              "      <td>https://play-lh.googleusercontent.com/a-/AOh14...</td>\n",
              "      <td>Love it 😊</td>\n",
              "      <td>5</td>\n",
              "      <td>0</td>\n",
              "      <td>23.8.4</td>\n",
              "      <td>2022-03-31 02:04:44</td>\n",
              "      <td>NaN</td>\n",
              "      <td>NaN</td>\n",
              "    </tr>\n",
              "    <tr>\n",
              "      <th>187081</th>\n",
              "      <td>gp:AOqpTOH3uKBKM-_9I2jQLj2vCQrK-Mm0qN0-bHuRWse...</td>\n",
              "      <td>Robby Geerman</td>\n",
              "      <td>https://play-lh.googleusercontent.com/a/AATXAJ...</td>\n",
              "      <td>Love you</td>\n",
              "      <td>5</td>\n",
              "      <td>0</td>\n",
              "      <td>NaN</td>\n",
              "      <td>2022-02-18 21:44:31</td>\n",
              "      <td>NaN</td>\n",
              "      <td>NaN</td>\n",
              "    </tr>\n",
              "    <tr>\n",
              "      <th>227764</th>\n",
              "      <td>gp:AOqpTOHPPb2BXG2VOAjRZIvFmDB1wzyd1x2PG0jWzTK...</td>\n",
              "      <td>Masika Happy Rosette</td>\n",
              "      <td>https://play-lh.googleusercontent.com/a/AATXAJ...</td>\n",
              "      <td>azawi bae</td>\n",
              "      <td>5</td>\n",
              "      <td>0</td>\n",
              "      <td>NaN</td>\n",
              "      <td>2022-02-07 19:37:06</td>\n",
              "      <td>NaN</td>\n",
              "      <td>NaN</td>\n",
              "    </tr>\n",
              "  </tbody>\n",
              "</table>\n",
              "</div>\n",
              "      <button class=\"colab-df-convert\" onclick=\"convertToInteractive('df-b5f6ab87-a587-40b2-9e9c-32b20f344525')\"\n",
              "              title=\"Convert this dataframe to an interactive table.\"\n",
              "              style=\"display:none;\">\n",
              "        \n",
              "  <svg xmlns=\"http://www.w3.org/2000/svg\" height=\"24px\"viewBox=\"0 0 24 24\"\n",
              "       width=\"24px\">\n",
              "    <path d=\"M0 0h24v24H0V0z\" fill=\"none\"/>\n",
              "    <path d=\"M18.56 5.44l.94 2.06.94-2.06 2.06-.94-2.06-.94-.94-2.06-.94 2.06-2.06.94zm-11 1L8.5 8.5l.94-2.06 2.06-.94-2.06-.94L8.5 2.5l-.94 2.06-2.06.94zm10 10l.94 2.06.94-2.06 2.06-.94-2.06-.94-.94-2.06-.94 2.06-2.06.94z\"/><path d=\"M17.41 7.96l-1.37-1.37c-.4-.4-.92-.59-1.43-.59-.52 0-1.04.2-1.43.59L10.3 9.45l-7.72 7.72c-.78.78-.78 2.05 0 2.83L4 21.41c.39.39.9.59 1.41.59.51 0 1.02-.2 1.41-.59l7.78-7.78 2.81-2.81c.8-.78.8-2.07 0-2.86zM5.41 20L4 18.59l7.72-7.72 1.47 1.35L5.41 20z\"/>\n",
              "  </svg>\n",
              "      </button>\n",
              "      \n",
              "  <style>\n",
              "    .colab-df-container {\n",
              "      display:flex;\n",
              "      flex-wrap:wrap;\n",
              "      gap: 12px;\n",
              "    }\n",
              "\n",
              "    .colab-df-convert {\n",
              "      background-color: #E8F0FE;\n",
              "      border: none;\n",
              "      border-radius: 50%;\n",
              "      cursor: pointer;\n",
              "      display: none;\n",
              "      fill: #1967D2;\n",
              "      height: 32px;\n",
              "      padding: 0 0 0 0;\n",
              "      width: 32px;\n",
              "    }\n",
              "\n",
              "    .colab-df-convert:hover {\n",
              "      background-color: #E2EBFA;\n",
              "      box-shadow: 0px 1px 2px rgba(60, 64, 67, 0.3), 0px 1px 3px 1px rgba(60, 64, 67, 0.15);\n",
              "      fill: #174EA6;\n",
              "    }\n",
              "\n",
              "    [theme=dark] .colab-df-convert {\n",
              "      background-color: #3B4455;\n",
              "      fill: #D2E3FC;\n",
              "    }\n",
              "\n",
              "    [theme=dark] .colab-df-convert:hover {\n",
              "      background-color: #434B5C;\n",
              "      box-shadow: 0px 1px 3px 1px rgba(0, 0, 0, 0.15);\n",
              "      filter: drop-shadow(0px 1px 2px rgba(0, 0, 0, 0.3));\n",
              "      fill: #FFFFFF;\n",
              "    }\n",
              "  </style>\n",
              "\n",
              "      <script>\n",
              "        const buttonEl =\n",
              "          document.querySelector('#df-b5f6ab87-a587-40b2-9e9c-32b20f344525 button.colab-df-convert');\n",
              "        buttonEl.style.display =\n",
              "          google.colab.kernel.accessAllowed ? 'block' : 'none';\n",
              "\n",
              "        async function convertToInteractive(key) {\n",
              "          const element = document.querySelector('#df-b5f6ab87-a587-40b2-9e9c-32b20f344525');\n",
              "          const dataTable =\n",
              "            await google.colab.kernel.invokeFunction('convertToInteractive',\n",
              "                                                     [key], {});\n",
              "          if (!dataTable) return;\n",
              "\n",
              "          const docLinkHtml = 'Like what you see? Visit the ' +\n",
              "            '<a target=\"_blank\" href=https://colab.research.google.com/notebooks/data_table.ipynb>data table notebook</a>'\n",
              "            + ' to learn more about interactive tables.';\n",
              "          element.innerHTML = '';\n",
              "          dataTable['output_type'] = 'display_data';\n",
              "          await google.colab.output.renderOutput(dataTable, element);\n",
              "          const docLink = document.createElement('div');\n",
              "          docLink.innerHTML = docLinkHtml;\n",
              "          element.appendChild(docLink);\n",
              "        }\n",
              "      </script>\n",
              "    </div>\n",
              "  </div>\n",
              "  "
            ]
          },
          "metadata": {},
          "execution_count": 62
        }
      ]
    },
    {
      "cell_type": "code",
      "source": [
        "# get the number of rows and columns\n",
        "df1.shape"
      ],
      "metadata": {
        "colab": {
          "base_uri": "https://localhost:8080/"
        },
        "id": "XwmFbMZZOTEf",
        "outputId": "9434d5d6-1758-4268-98fd-75ed5550b24f"
      },
      "execution_count": 63,
      "outputs": [
        {
          "output_type": "execute_result",
          "data": {
            "text/plain": [
              "(307057, 10)"
            ]
          },
          "metadata": {},
          "execution_count": 63
        }
      ]
    },
    {
      "cell_type": "markdown",
      "source": [
        "Dataset terdirdiri dari :\n",
        "- 10 Kolom\n",
        "- 307057 Baris"
      ],
      "metadata": {
        "id": "-IBKdF2lOlN5"
      }
    },
    {
      "cell_type": "code",
      "source": [
        "# displays the column names in the data\n",
        "df1.columns.values"
      ],
      "metadata": {
        "colab": {
          "base_uri": "https://localhost:8080/"
        },
        "id": "QARcmJwqOWzB",
        "outputId": "381aff28-f555-477e-e859-57b63c6455c4"
      },
      "execution_count": 64,
      "outputs": [
        {
          "output_type": "execute_result",
          "data": {
            "text/plain": [
              "array(['reviewId', 'userName', 'userImage', 'content', 'score',\n",
              "       'thumbsUpCount', 'reviewCreatedVersion', 'at', 'replyContent',\n",
              "       'repliedAt'], dtype=object)"
            ]
          },
          "metadata": {},
          "execution_count": 64
        }
      ]
    },
    {
      "cell_type": "markdown",
      "source": [
        "Nama Kolom pada dataset:\n",
        "- reviewId\n",
        "- userName\n",
        "- userImage\n",
        "- content\n",
        "- score\n",
        "- thumbsUpCount\n",
        "- reviewCreatedVersion\n",
        "- at\n",
        "- replyContent\n",
        "- repliedAt"
      ],
      "metadata": {
        "id": "-ymgT45WPT32"
      }
    },
    {
      "cell_type": "code",
      "source": [
        "# prints information about the data\n",
        "df1.info()"
      ],
      "metadata": {
        "colab": {
          "base_uri": "https://localhost:8080/"
        },
        "id": "ixFxROYkPYnM",
        "outputId": "724fc84d-388e-4c5c-f889-72516af2f729"
      },
      "execution_count": 65,
      "outputs": [
        {
          "output_type": "stream",
          "name": "stdout",
          "text": [
            "<class 'pandas.core.frame.DataFrame'>\n",
            "RangeIndex: 307057 entries, 0 to 307056\n",
            "Data columns (total 10 columns):\n",
            " #   Column                Non-Null Count   Dtype \n",
            "---  ------                --------------   ----- \n",
            " 0   reviewId              307057 non-null  object\n",
            " 1   userName              307057 non-null  object\n",
            " 2   userImage             307057 non-null  object\n",
            " 3   content               307053 non-null  object\n",
            " 4   score                 307057 non-null  int64 \n",
            " 5   thumbsUpCount         307057 non-null  int64 \n",
            " 6   reviewCreatedVersion  217841 non-null  object\n",
            " 7   at                    307057 non-null  object\n",
            " 8   replyContent          119 non-null     object\n",
            " 9   repliedAt             119 non-null     object\n",
            "dtypes: int64(2), object(8)\n",
            "memory usage: 23.4+ MB\n"
          ]
        }
      ]
    },
    {
      "cell_type": "markdown",
      "source": [
        "Informasi data yang diperoleh :\n",
        "- Tipe data pada dataset berupa tipe data objek dan integer\n",
        "- Tidak terdapat missing value"
      ],
      "metadata": {
        "id": "yNBx86OJPkaH"
      }
    },
    {
      "cell_type": "code",
      "source": [
        "# counting the number of missing values in each column\n",
        "df1.isnull().sum()"
      ],
      "metadata": {
        "colab": {
          "base_uri": "https://localhost:8080/"
        },
        "id": "kWMl8guLP8Je",
        "outputId": "92e12d4c-51fe-4e26-8ffd-d68336e36dc0"
      },
      "execution_count": 66,
      "outputs": [
        {
          "output_type": "execute_result",
          "data": {
            "text/plain": [
              "reviewId                     0\n",
              "userName                     0\n",
              "userImage                    0\n",
              "content                      4\n",
              "score                        0\n",
              "thumbsUpCount                0\n",
              "reviewCreatedVersion     89216\n",
              "at                           0\n",
              "replyContent            306938\n",
              "repliedAt               306938\n",
              "dtype: int64"
            ]
          },
          "metadata": {},
          "execution_count": 66
        }
      ]
    },
    {
      "cell_type": "markdown",
      "source": [
        "Setelah ditampilkan terdapat missing value pada kolom:\n",
        "- content (4)\n",
        "- reviewCreatedVersion (89216)\n",
        "- replyContent (306938)\n",
        "- repliedAt (306938)"
      ],
      "metadata": {
        "id": "0SemxW49QLwh"
      }
    },
    {
      "cell_type": "code",
      "source": [
        "# displaying the missing values\n",
        "missing_value = df1.isnull().mean()\n",
        "missing_value"
      ],
      "metadata": {
        "colab": {
          "base_uri": "https://localhost:8080/"
        },
        "id": "8yOdmdYtRycJ",
        "outputId": "694d96ab-acc5-453e-f753-76652865234f"
      },
      "execution_count": 67,
      "outputs": [
        {
          "output_type": "execute_result",
          "data": {
            "text/plain": [
              "reviewId                0.000000\n",
              "userName                0.000000\n",
              "userImage               0.000000\n",
              "content                 0.000013\n",
              "score                   0.000000\n",
              "thumbsUpCount           0.000000\n",
              "reviewCreatedVersion    0.290552\n",
              "at                      0.000000\n",
              "replyContent            0.999612\n",
              "repliedAt               0.999612\n",
              "dtype: float64"
            ]
          },
          "metadata": {},
          "execution_count": 67
        }
      ]
    },
    {
      "cell_type": "code",
      "source": [
        "# looking for duplicate data\n",
        "print(df1.duplicated())"
      ],
      "metadata": {
        "colab": {
          "base_uri": "https://localhost:8080/"
        },
        "id": "rbD1EY6WQOC3",
        "outputId": "ba8b5024-2fa9-4425-cc43-0602fcc3ade2"
      },
      "execution_count": 68,
      "outputs": [
        {
          "output_type": "stream",
          "name": "stdout",
          "text": [
            "0         False\n",
            "1         False\n",
            "2         False\n",
            "3         False\n",
            "4         False\n",
            "          ...  \n",
            "307052    False\n",
            "307053    False\n",
            "307054    False\n",
            "307055    False\n",
            "307056    False\n",
            "Length: 307057, dtype: bool\n"
          ]
        }
      ]
    },
    {
      "cell_type": "markdown",
      "source": [
        "# Data Cleaning"
      ],
      "metadata": {
        "id": "ULoomg9QRRxG"
      }
    },
    {
      "cell_type": "code",
      "source": [
        "# drop unnecessary columns\n",
        "df1.drop(['reviewId', 'userName', 'userImage', 'score', 'thumbsUpCount', 'reviewCreatedVersion', 'at', 'replyContent', 'repliedAt'], inplace=True, axis=1)"
      ],
      "metadata": {
        "id": "yCB0soOPRV1x"
      },
      "execution_count": 69,
      "outputs": []
    },
    {
      "cell_type": "code",
      "source": [
        "# fix missing value\n",
        "df1 = df1.dropna(subset=['content'])"
      ],
      "metadata": {
        "id": "7nB6A9_sRhvt"
      },
      "execution_count": 70,
      "outputs": []
    },
    {
      "cell_type": "code",
      "source": [
        "# show data after cleaning\n",
        "df1.head()"
      ],
      "metadata": {
        "colab": {
          "base_uri": "https://localhost:8080/",
          "height": 206
        },
        "id": "OHPx5hWlSOFf",
        "outputId": "9d1dd250-1396-4cad-d69d-6ccec85df465"
      },
      "execution_count": 71,
      "outputs": [
        {
          "output_type": "execute_result",
          "data": {
            "text/plain": [
              "                                             content\n",
              "0                                               Good\n",
              "1  Awesome app! Too many people on it where it's ...\n",
              "2                                            Not bad\n",
              "3                                         It is good\n",
              "4                               Very interesting app"
            ],
            "text/html": [
              "\n",
              "  <div id=\"df-47513565-69af-4ba0-ad47-7d59c627ecc6\">\n",
              "    <div class=\"colab-df-container\">\n",
              "      <div>\n",
              "<style scoped>\n",
              "    .dataframe tbody tr th:only-of-type {\n",
              "        vertical-align: middle;\n",
              "    }\n",
              "\n",
              "    .dataframe tbody tr th {\n",
              "        vertical-align: top;\n",
              "    }\n",
              "\n",
              "    .dataframe thead th {\n",
              "        text-align: right;\n",
              "    }\n",
              "</style>\n",
              "<table border=\"1\" class=\"dataframe\">\n",
              "  <thead>\n",
              "    <tr style=\"text-align: right;\">\n",
              "      <th></th>\n",
              "      <th>content</th>\n",
              "    </tr>\n",
              "  </thead>\n",
              "  <tbody>\n",
              "    <tr>\n",
              "      <th>0</th>\n",
              "      <td>Good</td>\n",
              "    </tr>\n",
              "    <tr>\n",
              "      <th>1</th>\n",
              "      <td>Awesome app! Too many people on it where it's ...</td>\n",
              "    </tr>\n",
              "    <tr>\n",
              "      <th>2</th>\n",
              "      <td>Not bad</td>\n",
              "    </tr>\n",
              "    <tr>\n",
              "      <th>3</th>\n",
              "      <td>It is good</td>\n",
              "    </tr>\n",
              "    <tr>\n",
              "      <th>4</th>\n",
              "      <td>Very interesting app</td>\n",
              "    </tr>\n",
              "  </tbody>\n",
              "</table>\n",
              "</div>\n",
              "      <button class=\"colab-df-convert\" onclick=\"convertToInteractive('df-47513565-69af-4ba0-ad47-7d59c627ecc6')\"\n",
              "              title=\"Convert this dataframe to an interactive table.\"\n",
              "              style=\"display:none;\">\n",
              "        \n",
              "  <svg xmlns=\"http://www.w3.org/2000/svg\" height=\"24px\"viewBox=\"0 0 24 24\"\n",
              "       width=\"24px\">\n",
              "    <path d=\"M0 0h24v24H0V0z\" fill=\"none\"/>\n",
              "    <path d=\"M18.56 5.44l.94 2.06.94-2.06 2.06-.94-2.06-.94-.94-2.06-.94 2.06-2.06.94zm-11 1L8.5 8.5l.94-2.06 2.06-.94-2.06-.94L8.5 2.5l-.94 2.06-2.06.94zm10 10l.94 2.06.94-2.06 2.06-.94-2.06-.94-.94-2.06-.94 2.06-2.06.94z\"/><path d=\"M17.41 7.96l-1.37-1.37c-.4-.4-.92-.59-1.43-.59-.52 0-1.04.2-1.43.59L10.3 9.45l-7.72 7.72c-.78.78-.78 2.05 0 2.83L4 21.41c.39.39.9.59 1.41.59.51 0 1.02-.2 1.41-.59l7.78-7.78 2.81-2.81c.8-.78.8-2.07 0-2.86zM5.41 20L4 18.59l7.72-7.72 1.47 1.35L5.41 20z\"/>\n",
              "  </svg>\n",
              "      </button>\n",
              "      \n",
              "  <style>\n",
              "    .colab-df-container {\n",
              "      display:flex;\n",
              "      flex-wrap:wrap;\n",
              "      gap: 12px;\n",
              "    }\n",
              "\n",
              "    .colab-df-convert {\n",
              "      background-color: #E8F0FE;\n",
              "      border: none;\n",
              "      border-radius: 50%;\n",
              "      cursor: pointer;\n",
              "      display: none;\n",
              "      fill: #1967D2;\n",
              "      height: 32px;\n",
              "      padding: 0 0 0 0;\n",
              "      width: 32px;\n",
              "    }\n",
              "\n",
              "    .colab-df-convert:hover {\n",
              "      background-color: #E2EBFA;\n",
              "      box-shadow: 0px 1px 2px rgba(60, 64, 67, 0.3), 0px 1px 3px 1px rgba(60, 64, 67, 0.15);\n",
              "      fill: #174EA6;\n",
              "    }\n",
              "\n",
              "    [theme=dark] .colab-df-convert {\n",
              "      background-color: #3B4455;\n",
              "      fill: #D2E3FC;\n",
              "    }\n",
              "\n",
              "    [theme=dark] .colab-df-convert:hover {\n",
              "      background-color: #434B5C;\n",
              "      box-shadow: 0px 1px 3px 1px rgba(0, 0, 0, 0.15);\n",
              "      filter: drop-shadow(0px 1px 2px rgba(0, 0, 0, 0.3));\n",
              "      fill: #FFFFFF;\n",
              "    }\n",
              "  </style>\n",
              "\n",
              "      <script>\n",
              "        const buttonEl =\n",
              "          document.querySelector('#df-47513565-69af-4ba0-ad47-7d59c627ecc6 button.colab-df-convert');\n",
              "        buttonEl.style.display =\n",
              "          google.colab.kernel.accessAllowed ? 'block' : 'none';\n",
              "\n",
              "        async function convertToInteractive(key) {\n",
              "          const element = document.querySelector('#df-47513565-69af-4ba0-ad47-7d59c627ecc6');\n",
              "          const dataTable =\n",
              "            await google.colab.kernel.invokeFunction('convertToInteractive',\n",
              "                                                     [key], {});\n",
              "          if (!dataTable) return;\n",
              "\n",
              "          const docLinkHtml = 'Like what you see? Visit the ' +\n",
              "            '<a target=\"_blank\" href=https://colab.research.google.com/notebooks/data_table.ipynb>data table notebook</a>'\n",
              "            + ' to learn more about interactive tables.';\n",
              "          element.innerHTML = '';\n",
              "          dataTable['output_type'] = 'display_data';\n",
              "          await google.colab.output.renderOutput(dataTable, element);\n",
              "          const docLink = document.createElement('div');\n",
              "          docLink.innerHTML = docLinkHtml;\n",
              "          element.appendChild(docLink);\n",
              "        }\n",
              "      </script>\n",
              "    </div>\n",
              "  </div>\n",
              "  "
            ]
          },
          "metadata": {},
          "execution_count": 71
        }
      ]
    },
    {
      "cell_type": "code",
      "source": [
        "# change the content label to review\n",
        "df1 = df1.rename(columns={'content': 'review'})"
      ],
      "metadata": {
        "id": "6khtTC3fSZW1"
      },
      "execution_count": 72,
      "outputs": []
    },
    {
      "cell_type": "markdown",
      "source": [
        "# Machine Learning"
      ],
      "metadata": {
        "id": "hNTDLUj8Slte"
      }
    },
    {
      "cell_type": "code",
      "source": [
        "# import the necessary libraries for model\n",
        "import nltk\n",
        "from nltk.sentiment import SentimentIntensityAnalyzer"
      ],
      "metadata": {
        "id": "euWPM7EKSki3"
      },
      "execution_count": 73,
      "outputs": []
    },
    {
      "cell_type": "code",
      "source": [
        "def extract_sentiment(review):\n",
        "    \n",
        "    # Create an object of SentimentIntensityAnalyzer class\n",
        "    sia = SentimentIntensityAnalyzer()\n",
        "    \n",
        "    # Use the polarity_scores method to get the sentiment scores\n",
        "    sentiment = sia.polarity_scores(review)\n",
        "    \n",
        "    # Check the compound score, if it's greater than 0, return 'positive'\n",
        "    if sentiment['compound'] > 0:\n",
        "        return 'positive'\n",
        "    \n",
        "    # Check the compound score, if it's less than 0, return 'negative'\n",
        "    elif sentiment['compound'] < 0:\n",
        "        return 'negative'\n",
        "    \n",
        "    # If the compound score is 0, return 'neutral'\n",
        "    else:\n",
        "        return 'neutral'"
      ],
      "metadata": {
        "id": "ddGfXxR8St5G"
      },
      "execution_count": 74,
      "outputs": []
    },
    {
      "cell_type": "code",
      "source": [
        "# Create a new column 'sentiment' in the dataframe and apply the extract_sentiment function to each review\n",
        "df1['sentiment'] = df1['review'].apply(extract_sentiment)"
      ],
      "metadata": {
        "id": "uKFulCekSx4b"
      },
      "execution_count": 75,
      "outputs": []
    },
    {
      "cell_type": "code",
      "source": [
        "# Import train_test_split function from sklearn.model_selection\n",
        "from sklearn.model_selection import train_test_split\n",
        "\n",
        "# Assign the review column to the variable X and the sentiment column to the variable y\n",
        "X = df1['review']\n",
        "y = df1['sentiment']\n",
        "\n",
        "# Use the train_test_split function to split the data into training and testing sets\n",
        "# The test_size parameter is set to 0.2, meaning that 20% of the data will be used for testing\n",
        "# The random_state parameter is set to 42 for reproducibility\n",
        "X_train, X_test, y_train, y_test = train_test_split(X, y, test_size=0.2, random_state=42)"
      ],
      "metadata": {
        "id": "nbPbENJjS3p1"
      },
      "execution_count": 76,
      "outputs": []
    },
    {
      "cell_type": "code",
      "source": [
        "# Import CountVectorizer from sklearn.feature_extraction.text\n",
        "from sklearn.feature_extraction.text import CountVectorizer\n",
        "\n",
        "# Create an object of CountVectorizer\n",
        "cv = CountVectorizer()\n",
        "# Use the fit_transform method to vectorize the text data in X_train\n",
        "X_train_vect = cv.fit_transform(X_train)\n",
        "\n",
        "# Import MultinomialNB from sklearn.naive_bayes\n",
        "from sklearn.naive_bayes import MultinomialNB\n",
        "\n",
        "# Create an object of MultinomialNB\n",
        "clf = MultinomialNB()\n",
        "# Use the fit method to fit the classifier with the training data\n",
        "clf.fit(X_train_vect, y_train)"
      ],
      "metadata": {
        "colab": {
          "base_uri": "https://localhost:8080/"
        },
        "id": "qVWVNtn-S6O7",
        "outputId": "632607b6-2cd0-48c5-ea22-ad7077ed75de"
      },
      "execution_count": 77,
      "outputs": [
        {
          "output_type": "execute_result",
          "data": {
            "text/plain": [
              "MultinomialNB()"
            ]
          },
          "metadata": {},
          "execution_count": 77
        }
      ]
    },
    {
      "cell_type": "code",
      "source": [
        "# Use the transform method to vectorize the text data in X_test\n",
        "X_test_vect = cv.transform(X_test)\n",
        "\n",
        "# Use the predict method to predict the sentiment of the reviews in X_test\n",
        "y_pred = clf.predict(X_test_vect)"
      ],
      "metadata": {
        "id": "9Fp8_-QJS88P"
      },
      "execution_count": 78,
      "outputs": []
    },
    {
      "cell_type": "code",
      "source": [
        "# Import accuracy_score from sklearn.metrics\n",
        "from sklearn.metrics import accuracy_score\n",
        "\n",
        "# Use the accuracy_score function to calculate the accuracy of the model\n",
        "accuracy = accuracy_score(y_test, y_pred)\n",
        "\n",
        "# Print the accuracy of the model\n",
        "print(f\"Accuracy: {accuracy:.2f}\")"
      ],
      "metadata": {
        "colab": {
          "base_uri": "https://localhost:8080/"
        },
        "id": "NejC2mLUS_ct",
        "outputId": "879b5ae3-a7e9-42a6-858a-fdd779ac6bae"
      },
      "execution_count": 79,
      "outputs": [
        {
          "output_type": "stream",
          "name": "stdout",
          "text": [
            "Accuracy: 0.79\n"
          ]
        }
      ]
    },
    {
      "cell_type": "code",
      "source": [
        "# Create a list of new reviews\n",
        "new_review = [\"I love this app, it's so easy to use and has all the features I need.\"]\n",
        "\n",
        "# Use the transform method of the cv object to vectorize the new reviews\n",
        "new_review_vect = cv.transform(new_review)"
      ],
      "metadata": {
        "id": "VNGqIDW1WRhk"
      },
      "execution_count": 80,
      "outputs": []
    },
    {
      "cell_type": "code",
      "source": [
        "# Use the predict method of the clf object to predict the sentiment of the new review\n",
        "predicted_sentiment = clf.predict(new_review_vect)\n",
        "\n",
        "# Print the predicted sentiment\n",
        "print(predicted_sentiment)"
      ],
      "metadata": {
        "colab": {
          "base_uri": "https://localhost:8080/"
        },
        "id": "i3MFJWNwWnXX",
        "outputId": "c22f0655-85d9-42d2-fe3c-6dbdfb4d3a11"
      },
      "execution_count": 81,
      "outputs": [
        {
          "output_type": "stream",
          "name": "stdout",
          "text": [
            "['positive']\n"
          ]
        }
      ]
    },
    {
      "cell_type": "code",
      "source": [
        "# Use the predict_proba method of the clf object to predict the probability of each sentiment class for the new review\n",
        "predicted_sentiment_proba = clf.predict_proba(new_review_vect)\n",
        "# Print the predicted sentiment probability\n",
        "print(predicted_sentiment_proba)"
      ],
      "metadata": {
        "colab": {
          "base_uri": "https://localhost:8080/"
        },
        "id": "PdPnrYhHXJLs",
        "outputId": "fd5f7e47-1949-407e-8a40-467cf9d2a162"
      },
      "execution_count": 82,
      "outputs": [
        {
          "output_type": "stream",
          "name": "stdout",
          "text": [
            "[[7.72646553e-05 4.07456216e-09 9.99922731e-01]]\n"
          ]
        }
      ]
    }
  ]
}