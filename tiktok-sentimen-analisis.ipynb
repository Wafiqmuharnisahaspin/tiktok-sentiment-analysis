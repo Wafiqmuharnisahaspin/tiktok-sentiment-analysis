{
 "cells": [
  {
   "cell_type": "code",
   "execution_count": 2,
   "metadata": {},
   "outputs": [],
   "source": [
    "# import modul yang diperlukan\n",
    "import pandas as pd\n"
   ]
  },
  {
   "cell_type": "code",
   "execution_count": 3,
   "metadata": {},
   "outputs": [],
   "source": [
    "# baca dataset\n",
    "data1 = pd.read_csv(\"datasets/top-20-play-store-app-reviews.csv\")"
   ]
  },
  {
   "cell_type": "code",
   "execution_count": 4,
   "metadata": {},
   "outputs": [
    {
     "data": {
      "text/plain": [
       "(10000, 3)"
      ]
     },
     "execution_count": 4,
     "metadata": {},
     "output_type": "execute_result"
    }
   ],
   "source": [
    "# melihat jumlah data\n",
    "data1.shape"
   ]
  },
  {
   "cell_type": "code",
   "execution_count": 5,
   "metadata": {},
   "outputs": [
    {
     "data": {
      "text/html": [
       "<div>\n",
       "<style scoped>\n",
       "    .dataframe tbody tr th:only-of-type {\n",
       "        vertical-align: middle;\n",
       "    }\n",
       "\n",
       "    .dataframe tbody tr th {\n",
       "        vertical-align: top;\n",
       "    }\n",
       "\n",
       "    .dataframe thead th {\n",
       "        text-align: right;\n",
       "    }\n",
       "</style>\n",
       "<table border=\"1\" class=\"dataframe\">\n",
       "  <thead>\n",
       "    <tr style=\"text-align: right;\">\n",
       "      <th></th>\n",
       "      <th>reviewId</th>\n",
       "      <th>content</th>\n",
       "      <th>score</th>\n",
       "    </tr>\n",
       "  </thead>\n",
       "  <tbody>\n",
       "    <tr>\n",
       "      <th>0</th>\n",
       "      <td>4fda6278-1d09-4f81-9e50-b2a9389082d6</td>\n",
       "      <td>Good</td>\n",
       "      <td>5</td>\n",
       "    </tr>\n",
       "    <tr>\n",
       "      <th>1</th>\n",
       "      <td>b53531ff-4f22-4fe3-9503-22da08203885</td>\n",
       "      <td>SOO GOOD</td>\n",
       "      <td>5</td>\n",
       "    </tr>\n",
       "    <tr>\n",
       "      <th>2</th>\n",
       "      <td>e7a41e88-f51b-4b18-b765-d42457a829ce</td>\n",
       "      <td>Please tik tok team virel my videos please</td>\n",
       "      <td>5</td>\n",
       "    </tr>\n",
       "    <tr>\n",
       "      <th>3</th>\n",
       "      <td>75a69c84-4699-4d5b-bffc-14387218a347</td>\n",
       "      <td>So cool</td>\n",
       "      <td>5</td>\n",
       "    </tr>\n",
       "    <tr>\n",
       "      <th>4</th>\n",
       "      <td>120c8a02-a2ab-4523-a76e-74ec0d3bee1c</td>\n",
       "      <td>On my way to 1K...😍🥰</td>\n",
       "      <td>5</td>\n",
       "    </tr>\n",
       "  </tbody>\n",
       "</table>\n",
       "</div>"
      ],
      "text/plain": [
       "                               reviewId  \\\n",
       "0  4fda6278-1d09-4f81-9e50-b2a9389082d6   \n",
       "1  b53531ff-4f22-4fe3-9503-22da08203885   \n",
       "2  e7a41e88-f51b-4b18-b765-d42457a829ce   \n",
       "3  75a69c84-4699-4d5b-bffc-14387218a347   \n",
       "4  120c8a02-a2ab-4523-a76e-74ec0d3bee1c   \n",
       "\n",
       "                                      content  score  \n",
       "0                                        Good      5  \n",
       "1                                    SOO GOOD      5  \n",
       "2  Please tik tok team virel my videos please      5  \n",
       "3                                     So cool      5  \n",
       "4                        On my way to 1K...😍🥰      5  "
      ]
     },
     "execution_count": 5,
     "metadata": {},
     "output_type": "execute_result"
    }
   ],
   "source": [
    "# melihat lima data pertama\n",
    "data1.head(5)"
   ]
  },
  {
   "cell_type": "code",
   "execution_count": 6,
   "metadata": {},
   "outputs": [
    {
     "data": {
      "text/html": [
       "<div>\n",
       "<style scoped>\n",
       "    .dataframe tbody tr th:only-of-type {\n",
       "        vertical-align: middle;\n",
       "    }\n",
       "\n",
       "    .dataframe tbody tr th {\n",
       "        vertical-align: top;\n",
       "    }\n",
       "\n",
       "    .dataframe thead th {\n",
       "        text-align: right;\n",
       "    }\n",
       "</style>\n",
       "<table border=\"1\" class=\"dataframe\">\n",
       "  <thead>\n",
       "    <tr style=\"text-align: right;\">\n",
       "      <th></th>\n",
       "      <th>reviewId</th>\n",
       "      <th>content</th>\n",
       "      <th>score</th>\n",
       "    </tr>\n",
       "  </thead>\n",
       "  <tbody>\n",
       "    <tr>\n",
       "      <th>9995</th>\n",
       "      <td>eea6facc-f29b-4976-857c-1cf0c2f2c6b1</td>\n",
       "      <td>Me want to download back TikTok</td>\n",
       "      <td>5</td>\n",
       "    </tr>\n",
       "    <tr>\n",
       "      <th>9996</th>\n",
       "      <td>b576e584-9f54-49db-b45f-adf790a1da35</td>\n",
       "      <td>Best thing ever</td>\n",
       "      <td>5</td>\n",
       "    </tr>\n",
       "    <tr>\n",
       "      <th>9997</th>\n",
       "      <td>1db7ecb9-af58-4693-8a0b-e1bf24cc8653</td>\n",
       "      <td>So I was just trying to post a Roblox vid and ...</td>\n",
       "      <td>2</td>\n",
       "    </tr>\n",
       "    <tr>\n",
       "      <th>9998</th>\n",
       "      <td>59481d1e-4313-4c60-bfaa-9a1c43228b3b</td>\n",
       "      <td>I've had a good time.</td>\n",
       "      <td>4</td>\n",
       "    </tr>\n",
       "    <tr>\n",
       "      <th>9999</th>\n",
       "      <td>a7996e56-502b-4f4b-9834-ade2ce3a158b</td>\n",
       "      <td>Account is all freez no viral video</td>\n",
       "      <td>1</td>\n",
       "    </tr>\n",
       "  </tbody>\n",
       "</table>\n",
       "</div>"
      ],
      "text/plain": [
       "                                  reviewId  \\\n",
       "9995  eea6facc-f29b-4976-857c-1cf0c2f2c6b1   \n",
       "9996  b576e584-9f54-49db-b45f-adf790a1da35   \n",
       "9997  1db7ecb9-af58-4693-8a0b-e1bf24cc8653   \n",
       "9998  59481d1e-4313-4c60-bfaa-9a1c43228b3b   \n",
       "9999  a7996e56-502b-4f4b-9834-ade2ce3a158b   \n",
       "\n",
       "                                                content  score  \n",
       "9995                    Me want to download back TikTok      5  \n",
       "9996                                    Best thing ever      5  \n",
       "9997  So I was just trying to post a Roblox vid and ...      2  \n",
       "9998                              I've had a good time.      4  \n",
       "9999                Account is all freez no viral video      1  "
      ]
     },
     "execution_count": 6,
     "metadata": {},
     "output_type": "execute_result"
    }
   ],
   "source": [
    "# melihat lima data terakhir\n",
    "data1.tail(5)"
   ]
  },
  {
   "cell_type": "code",
   "execution_count": 7,
   "metadata": {},
   "outputs": [
    {
     "data": {
      "text/html": [
       "<div>\n",
       "<style scoped>\n",
       "    .dataframe tbody tr th:only-of-type {\n",
       "        vertical-align: middle;\n",
       "    }\n",
       "\n",
       "    .dataframe tbody tr th {\n",
       "        vertical-align: top;\n",
       "    }\n",
       "\n",
       "    .dataframe thead th {\n",
       "        text-align: right;\n",
       "    }\n",
       "</style>\n",
       "<table border=\"1\" class=\"dataframe\">\n",
       "  <thead>\n",
       "    <tr style=\"text-align: right;\">\n",
       "      <th></th>\n",
       "      <th>reviewId</th>\n",
       "      <th>content</th>\n",
       "      <th>score</th>\n",
       "    </tr>\n",
       "  </thead>\n",
       "  <tbody>\n",
       "    <tr>\n",
       "      <th>5545</th>\n",
       "      <td>74b517a2-2f88-4944-a583-61973b27f8dd</td>\n",
       "      <td>Because ewe nasty stuff on their And it's just...</td>\n",
       "      <td>1</td>\n",
       "    </tr>\n",
       "    <tr>\n",
       "      <th>5067</th>\n",
       "      <td>2de0e54f-b158-4328-82b9-8b4c5f09879b</td>\n",
       "      <td>Viral Karwa Do 😂🤣</td>\n",
       "      <td>5</td>\n",
       "    </tr>\n",
       "    <tr>\n",
       "      <th>1747</th>\n",
       "      <td>c1d9c048-e62d-481d-b6e4-5f185525e0a6</td>\n",
       "      <td>It is the best</td>\n",
       "      <td>5</td>\n",
       "    </tr>\n",
       "    <tr>\n",
       "      <th>9444</th>\n",
       "      <td>a57b71b2-4385-4582-9270-c73aac09c359</td>\n",
       "      <td>Nice</td>\n",
       "      <td>1</td>\n",
       "    </tr>\n",
       "    <tr>\n",
       "      <th>2643</th>\n",
       "      <td>a15f0d3f-14a0-4e94-86ea-e49b4d109787</td>\n",
       "      <td>Very good</td>\n",
       "      <td>4</td>\n",
       "    </tr>\n",
       "  </tbody>\n",
       "</table>\n",
       "</div>"
      ],
      "text/plain": [
       "                                  reviewId  \\\n",
       "5545  74b517a2-2f88-4944-a583-61973b27f8dd   \n",
       "5067  2de0e54f-b158-4328-82b9-8b4c5f09879b   \n",
       "1747  c1d9c048-e62d-481d-b6e4-5f185525e0a6   \n",
       "9444  a57b71b2-4385-4582-9270-c73aac09c359   \n",
       "2643  a15f0d3f-14a0-4e94-86ea-e49b4d109787   \n",
       "\n",
       "                                                content  score  \n",
       "5545  Because ewe nasty stuff on their And it's just...      1  \n",
       "5067                                  Viral Karwa Do 😂🤣      5  \n",
       "1747                                     It is the best      5  \n",
       "9444                                               Nice      1  \n",
       "2643                                          Very good      4  "
      ]
     },
     "execution_count": 7,
     "metadata": {},
     "output_type": "execute_result"
    }
   ],
   "source": [
    "# mengambil 5 sampel data secara random\n",
    "data1.sample(5)"
   ]
  },
  {
   "cell_type": "code",
   "execution_count": 8,
   "metadata": {},
   "outputs": [
    {
     "data": {
      "text/html": [
       "<div>\n",
       "<style scoped>\n",
       "    .dataframe tbody tr th:only-of-type {\n",
       "        vertical-align: middle;\n",
       "    }\n",
       "\n",
       "    .dataframe tbody tr th {\n",
       "        vertical-align: top;\n",
       "    }\n",
       "\n",
       "    .dataframe thead th {\n",
       "        text-align: right;\n",
       "    }\n",
       "</style>\n",
       "<table border=\"1\" class=\"dataframe\">\n",
       "  <thead>\n",
       "    <tr style=\"text-align: right;\">\n",
       "      <th></th>\n",
       "      <th>score</th>\n",
       "    </tr>\n",
       "  </thead>\n",
       "  <tbody>\n",
       "    <tr>\n",
       "      <th>count</th>\n",
       "      <td>10000.000000</td>\n",
       "    </tr>\n",
       "    <tr>\n",
       "      <th>mean</th>\n",
       "      <td>4.201200</td>\n",
       "    </tr>\n",
       "    <tr>\n",
       "      <th>std</th>\n",
       "      <td>1.456067</td>\n",
       "    </tr>\n",
       "    <tr>\n",
       "      <th>min</th>\n",
       "      <td>1.000000</td>\n",
       "    </tr>\n",
       "    <tr>\n",
       "      <th>25%</th>\n",
       "      <td>4.000000</td>\n",
       "    </tr>\n",
       "    <tr>\n",
       "      <th>50%</th>\n",
       "      <td>5.000000</td>\n",
       "    </tr>\n",
       "    <tr>\n",
       "      <th>75%</th>\n",
       "      <td>5.000000</td>\n",
       "    </tr>\n",
       "    <tr>\n",
       "      <th>max</th>\n",
       "      <td>5.000000</td>\n",
       "    </tr>\n",
       "  </tbody>\n",
       "</table>\n",
       "</div>"
      ],
      "text/plain": [
       "              score\n",
       "count  10000.000000\n",
       "mean       4.201200\n",
       "std        1.456067\n",
       "min        1.000000\n",
       "25%        4.000000\n",
       "50%        5.000000\n",
       "75%        5.000000\n",
       "max        5.000000"
      ]
     },
     "execution_count": 8,
     "metadata": {},
     "output_type": "execute_result"
    }
   ],
   "source": [
    "# melihat data secara deskriptif\n",
    "data1.describe()"
   ]
  },
  {
   "cell_type": "code",
   "execution_count": 9,
   "metadata": {},
   "outputs": [
    {
     "data": {
      "text/plain": [
       "Index(['reviewId', 'content', 'score'], dtype='object')"
      ]
     },
     "execution_count": 9,
     "metadata": {},
     "output_type": "execute_result"
    }
   ],
   "source": [
    "data1.columns"
   ]
  },
  {
   "cell_type": "code",
   "execution_count": 10,
   "metadata": {},
   "outputs": [
    {
     "data": {
      "text/plain": [
       "Good                                                                                                                                                                                                                                                                                                                                                                                                                                                                                                            388\n",
       "Nice                                                                                                                                                                                                                                                                                                                                                                                                                                                                                                            270\n",
       "Good app                                                                                                                                                                                                                                                                                                                                                                                                                                                                                                        128\n",
       "Great app                                                                                                                                                                                                                                                                                                                                                                                                                                                                                                       126\n",
       "Nice app                                                                                                                                                                                                                                                                                                                                                                                                                                                                                                        103\n",
       "                                                                                                                                                                                                                                                                                                                                                                                                                                                                                                               ... \n",
       "good for you and me                                                                                                                                                                                                                                                                                                                                                                                                                                                                                               1\n",
       "garbage dont download                                                                                                                                                                                                                                                                                                                                                                                                                                                                                             1\n",
       "Just find it funny that I can't access my main account so I had to make a new one that won't have my liked videos on it or people I'm following or anything. TikTok is supposed to be a big company, right? Then how come I have to go spend $45 I don't have (because my husband and I are preparing to welcome a son into the world soon) just to get my old phone reactivated for a month to get my main account back because of 2FA? TikTok can't just change my old number to my new one??? Funnnyyyy!!      1\n",
       "Never disappointed                                                                                                                                                                                                                                                                                                                                                                                                                                                                                                1\n",
       "Account is all freez no viral video                                                                                                                                                                                                                                                                                                                                                                                                                                                                               1\n",
       "Name: content, Length: 7449, dtype: int64"
      ]
     },
     "execution_count": 10,
     "metadata": {},
     "output_type": "execute_result"
    }
   ],
   "source": [
    "# menghitung variabel kategorik dari kolom content\n",
    "data1['content'].value_counts()"
   ]
  },
  {
   "cell_type": "code",
   "execution_count": 16,
   "metadata": {},
   "outputs": [],
   "source": [
    "# mengubah variabel good menjadi baik dan nice menjadi biasa\n",
    "data1['content']=data1['content'].map({'good':'bagus', 'nice':\"bagus\", \"good app\":\"bagus\", \"great\":\"great\", \"great app\":\"great\"})"
   ]
  },
  {
   "cell_type": "code",
   "execution_count": 17,
   "metadata": {},
   "outputs": [
    {
     "data": {
      "text/plain": [
       "great    2\n",
       "Name: content, dtype: int64"
      ]
     },
     "execution_count": 17,
     "metadata": {},
     "output_type": "execute_result"
    }
   ],
   "source": [
    "data1['content'].value_counts()"
   ]
  }
 ],
 "metadata": {
  "kernelspec": {
   "display_name": "Python 3",
   "language": "python",
   "name": "python3"
  },
  "language_info": {
   "codemirror_mode": {
    "name": "ipython",
    "version": 3
   },
   "file_extension": ".py",
   "mimetype": "text/x-python",
   "name": "python",
   "nbconvert_exporter": "python",
   "pygments_lexer": "ipython3",
   "version": "3.8.10 (default, Nov 14 2022, 12:59:47) \n[GCC 9.4.0]"
  },
  "orig_nbformat": 4,
  "vscode": {
   "interpreter": {
    "hash": "916dbcbb3f70747c44a77c7bcd40155683ae19c65e1c03b4aa3499c5328201f1"
   }
  }
 },
 "nbformat": 4,
 "nbformat_minor": 2
}
