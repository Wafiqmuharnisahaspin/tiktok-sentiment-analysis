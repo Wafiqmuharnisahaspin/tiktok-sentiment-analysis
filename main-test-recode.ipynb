{
 "cells": [
  {
   "cell_type": "code",
   "execution_count": 6,
   "metadata": {},
   "outputs": [],
   "source": [
    "# Import necessary libraries\n",
    "import pandas as pd\n",
    "import numpy as np\n",
    "import nltk\n",
    "from nltk.sentiment import SentimentIntensityAnalyzer\n",
    "from sklearn.model_selection import train_test_split"
   ]
  },
  {
   "cell_type": "code",
   "execution_count": 7,
   "metadata": {},
   "outputs": [],
   "source": [
    "# Load the dataset\n",
    "# The dataset contains user reviews of the TikTok app on Google Play\n",
    "df = pd.read_csv(\"https://raw.githubusercontent.com/learning-enisda/tpdm-kelompok13/master/datasets/tiktok_google_play_reviews.csv\")\n"
   ]
  },
  {
   "cell_type": "code",
   "execution_count": 8,
   "metadata": {},
   "outputs": [],
   "source": [
    "# Drop unnecessary columns\n",
    "# The columns being dropped are not needed for the sentiment analysis\n",
    "df.drop(['reviewId', 'score'], inplace=True, axis=1)\n",
    "\n",
    "# Fix missing value in the content column\n",
    "# The content column contains the text of the review, so it is important that there are no missing values\n",
    "df = df.dropna(subset=['content'])\n",
    "\n",
    "# Rename the content column to review\n",
    "# The new name is more descriptive of the column's contents\n",
    "df = df.rename(columns={'content': 'review'})"
   ]
  },
  {
   "cell_type": "code",
   "execution_count": 9,
   "metadata": {},
   "outputs": [],
   "source": [
    "# Define a function to extract sentiment from a review\n",
    "# The function uses the nltk library's SentimentIntensityAnalyzer to classify the sentiment of a review as positive, negative or neutral\n",
    "\n",
    "def extract_sentiment(review):\n",
    "    sia = SentimentIntensityAnalyzer()\n",
    "    sentiment = sia.polarity_scores(review)\n",
    "    if sentiment['compound'] > 0:\n",
    "        return 'positive'\n",
    "    elif sentiment['compound'] < 0:\n",
    "        return 'negative'\n",
    "    else:\n",
    "        return 'neutral'"
   ]
  },
  {
   "cell_type": "code",
   "execution_count": 10,
   "metadata": {},
   "outputs": [],
   "source": [
    "# Create a new column 'sentiment' in the dataframe and apply the extract_sentiment function to each review\n",
    "df['sentiment'] = df['review'].apply(extract_sentiment)\n",
    "\n",
    "# Split the data into training and test sets\n",
    "# The training set will be used to train the model, and the test set will be used to evaluate the model's performance\n",
    "X = df['review']\n",
    "y = df['sentiment']\n",
    "X_train, X_test, y_train, y_test = train_test_split(\n",
    "    X, y, test_size=0.2, random_state=42)"
   ]
  }
 ],
 "metadata": {
  "kernelspec": {
   "display_name": "Python 3",
   "language": "python",
   "name": "python3"
  },
  "language_info": {
   "codemirror_mode": {
    "name": "ipython",
    "version": 3
   },
   "file_extension": ".py",
   "mimetype": "text/x-python",
   "name": "python",
   "nbconvert_exporter": "python",
   "pygments_lexer": "ipython3",
   "version": "3.8.10"
  },
  "orig_nbformat": 4,
  "vscode": {
   "interpreter": {
    "hash": "916dbcbb3f70747c44a77c7bcd40155683ae19c65e1c03b4aa3499c5328201f1"
   }
  }
 },
 "nbformat": 4,
 "nbformat_minor": 2
}
