{
  "cells": [
    {
      "cell_type": "markdown",
      "metadata": {
        "id": "lMgf7CYdM5qp"
      },
      "source": [
        "# Data Preparation"
      ]
    },
    {
      "cell_type": "code",
      "execution_count": null,
      "metadata": {
        "id": "HIMKogQ4MYuw"
      },
      "outputs": [],
      "source": [
        "# import the necessary libraries\n",
        "import pandas as pd\n",
        "import numpy as np\n",
        "import seaborn as sns\n",
        "import matplotlib.pyplot as plt\n",
        "%matplotlib inline"
      ]
    },
    {
      "cell_type": "code",
      "execution_count": null,
      "metadata": {
        "id": "6damQGm2NrLy"
      },
      "outputs": [],
      "source": [
        "# load dataset\n",
        "df1= pd.read_csv(\"https://raw.githubusercontent.com/learning-enisda/tpdm-kelompok13/master/datasets/tiktok_google_play_reviews.csv\")"
      ]
    },
    {
      "cell_type": "markdown",
      "metadata": {
        "id": "SWGqeZpJN6-o"
      },
      "source": [
        "# Data Insight"
      ]
    },
    {
      "cell_type": "code",
      "execution_count": null,
      "metadata": {
        "colab": {
          "base_uri": "https://localhost:8080/",
          "height": 337
        },
        "id": "GA7cUXsSOBLe",
        "outputId": "9b1b989a-b929-4a92-fb2f-14bea981150e"
      },
      "outputs": [
        {
          "data": {
            "text/html": [
              "\n",
              "  <div id=\"df-e0398719-e665-46d7-b40c-193b2e43e71f\">\n",
              "    <div class=\"colab-df-container\">\n",
              "      <div>\n",
              "<style scoped>\n",
              "    .dataframe tbody tr th:only-of-type {\n",
              "        vertical-align: middle;\n",
              "    }\n",
              "\n",
              "    .dataframe tbody tr th {\n",
              "        vertical-align: top;\n",
              "    }\n",
              "\n",
              "    .dataframe thead th {\n",
              "        text-align: right;\n",
              "    }\n",
              "</style>\n",
              "<table border=\"1\" class=\"dataframe\">\n",
              "  <thead>\n",
              "    <tr style=\"text-align: right;\">\n",
              "      <th></th>\n",
              "      <th>reviewId</th>\n",
              "      <th>userName</th>\n",
              "      <th>userImage</th>\n",
              "      <th>content</th>\n",
              "      <th>score</th>\n",
              "      <th>thumbsUpCount</th>\n",
              "      <th>reviewCreatedVersion</th>\n",
              "      <th>at</th>\n",
              "      <th>replyContent</th>\n",
              "      <th>repliedAt</th>\n",
              "    </tr>\n",
              "  </thead>\n",
              "  <tbody>\n",
              "    <tr>\n",
              "      <th>185628</th>\n",
              "      <td>gp:AOqpTOFRnWH9hxgt6bsawpDzCa9pCgNr9A_IkARRWur...</td>\n",
              "      <td>Lisa Khanya</td>\n",
              "      <td>https://play-lh.googleusercontent.com/a/AATXAJ...</td>\n",
              "      <td>I like it</td>\n",
              "      <td>5</td>\n",
              "      <td>0</td>\n",
              "      <td>NaN</td>\n",
              "      <td>2022-02-19 07:23:58</td>\n",
              "      <td>NaN</td>\n",
              "      <td>NaN</td>\n",
              "    </tr>\n",
              "    <tr>\n",
              "      <th>307017</th>\n",
              "      <td>gp:AOqpTOE6-1pLSMvFE8yrNIekS_qRwf9PJrcfPugtBQk...</td>\n",
              "      <td>tiktok fyp</td>\n",
              "      <td>https://play-lh.googleusercontent.com/a/AATXAJ...</td>\n",
              "      <td>Good.ap keep.</td>\n",
              "      <td>5</td>\n",
              "      <td>0</td>\n",
              "      <td>NaN</td>\n",
              "      <td>2022-01-17 10:56:06</td>\n",
              "      <td>NaN</td>\n",
              "      <td>NaN</td>\n",
              "    </tr>\n",
              "    <tr>\n",
              "      <th>96025</th>\n",
              "      <td>gp:AOqpTOHv3XarlfQywI89jPo0G8nVrbVZogFYUgJjvwA...</td>\n",
              "      <td>Anne Holley</td>\n",
              "      <td>https://play-lh.googleusercontent.com/a-/AOh14...</td>\n",
              "      <td>This might sound super cliche and a bit contri...</td>\n",
              "      <td>5</td>\n",
              "      <td>29</td>\n",
              "      <td>23.6.4</td>\n",
              "      <td>2022-03-13 02:34:49</td>\n",
              "      <td>NaN</td>\n",
              "      <td>NaN</td>\n",
              "    </tr>\n",
              "    <tr>\n",
              "      <th>281881</th>\n",
              "      <td>gp:AOqpTOEkScVj_LpgmWwWeggQutvOPQwTKXjipIKc0V6...</td>\n",
              "      <td>Uzzal Hosain</td>\n",
              "      <td>https://play-lh.googleusercontent.com/a-/AOh14...</td>\n",
              "      <td>nice</td>\n",
              "      <td>1</td>\n",
              "      <td>0</td>\n",
              "      <td>22.9.5</td>\n",
              "      <td>2022-01-23 17:51:46</td>\n",
              "      <td>NaN</td>\n",
              "      <td>NaN</td>\n",
              "    </tr>\n",
              "    <tr>\n",
              "      <th>162515</th>\n",
              "      <td>gp:AOqpTOHnxRTgw7OKhVo16YyZFgjeUxNI95PIeA_lHbX...</td>\n",
              "      <td>M Ayaz ktpr</td>\n",
              "      <td>https://play-lh.googleusercontent.com/a/AATXAJ...</td>\n",
              "      <td>Yar mera Ticktot Account ap logo ne banned Kar...</td>\n",
              "      <td>5</td>\n",
              "      <td>0</td>\n",
              "      <td>23.4.3</td>\n",
              "      <td>2022-02-25 02:06:43</td>\n",
              "      <td>NaN</td>\n",
              "      <td>NaN</td>\n",
              "    </tr>\n",
              "  </tbody>\n",
              "</table>\n",
              "</div>\n",
              "      <button class=\"colab-df-convert\" onclick=\"convertToInteractive('df-e0398719-e665-46d7-b40c-193b2e43e71f')\"\n",
              "              title=\"Convert this dataframe to an interactive table.\"\n",
              "              style=\"display:none;\">\n",
              "        \n",
              "  <svg xmlns=\"http://www.w3.org/2000/svg\" height=\"24px\"viewBox=\"0 0 24 24\"\n",
              "       width=\"24px\">\n",
              "    <path d=\"M0 0h24v24H0V0z\" fill=\"none\"/>\n",
              "    <path d=\"M18.56 5.44l.94 2.06.94-2.06 2.06-.94-2.06-.94-.94-2.06-.94 2.06-2.06.94zm-11 1L8.5 8.5l.94-2.06 2.06-.94-2.06-.94L8.5 2.5l-.94 2.06-2.06.94zm10 10l.94 2.06.94-2.06 2.06-.94-2.06-.94-.94-2.06-.94 2.06-2.06.94z\"/><path d=\"M17.41 7.96l-1.37-1.37c-.4-.4-.92-.59-1.43-.59-.52 0-1.04.2-1.43.59L10.3 9.45l-7.72 7.72c-.78.78-.78 2.05 0 2.83L4 21.41c.39.39.9.59 1.41.59.51 0 1.02-.2 1.41-.59l7.78-7.78 2.81-2.81c.8-.78.8-2.07 0-2.86zM5.41 20L4 18.59l7.72-7.72 1.47 1.35L5.41 20z\"/>\n",
              "  </svg>\n",
              "      </button>\n",
              "      \n",
              "  <style>\n",
              "    .colab-df-container {\n",
              "      display:flex;\n",
              "      flex-wrap:wrap;\n",
              "      gap: 12px;\n",
              "    }\n",
              "\n",
              "    .colab-df-convert {\n",
              "      background-color: #E8F0FE;\n",
              "      border: none;\n",
              "      border-radius: 50%;\n",
              "      cursor: pointer;\n",
              "      display: none;\n",
              "      fill: #1967D2;\n",
              "      height: 32px;\n",
              "      padding: 0 0 0 0;\n",
              "      width: 32px;\n",
              "    }\n",
              "\n",
              "    .colab-df-convert:hover {\n",
              "      background-color: #E2EBFA;\n",
              "      box-shadow: 0px 1px 2px rgba(60, 64, 67, 0.3), 0px 1px 3px 1px rgba(60, 64, 67, 0.15);\n",
              "      fill: #174EA6;\n",
              "    }\n",
              "\n",
              "    [theme=dark] .colab-df-convert {\n",
              "      background-color: #3B4455;\n",
              "      fill: #D2E3FC;\n",
              "    }\n",
              "\n",
              "    [theme=dark] .colab-df-convert:hover {\n",
              "      background-color: #434B5C;\n",
              "      box-shadow: 0px 1px 3px 1px rgba(0, 0, 0, 0.15);\n",
              "      filter: drop-shadow(0px 1px 2px rgba(0, 0, 0, 0.3));\n",
              "      fill: #FFFFFF;\n",
              "    }\n",
              "  </style>\n",
              "\n",
              "      <script>\n",
              "        const buttonEl =\n",
              "          document.querySelector('#df-e0398719-e665-46d7-b40c-193b2e43e71f button.colab-df-convert');\n",
              "        buttonEl.style.display =\n",
              "          google.colab.kernel.accessAllowed ? 'block' : 'none';\n",
              "\n",
              "        async function convertToInteractive(key) {\n",
              "          const element = document.querySelector('#df-e0398719-e665-46d7-b40c-193b2e43e71f');\n",
              "          const dataTable =\n",
              "            await google.colab.kernel.invokeFunction('convertToInteractive',\n",
              "                                                     [key], {});\n",
              "          if (!dataTable) return;\n",
              "\n",
              "          const docLinkHtml = 'Like what you see? Visit the ' +\n",
              "            '<a target=\"_blank\" href=https://colab.research.google.com/notebooks/data_table.ipynb>data table notebook</a>'\n",
              "            + ' to learn more about interactive tables.';\n",
              "          element.innerHTML = '';\n",
              "          dataTable['output_type'] = 'display_data';\n",
              "          await google.colab.output.renderOutput(dataTable, element);\n",
              "          const docLink = document.createElement('div');\n",
              "          docLink.innerHTML = docLinkHtml;\n",
              "          element.appendChild(docLink);\n",
              "        }\n",
              "      </script>\n",
              "    </div>\n",
              "  </div>\n",
              "  "
            ],
            "text/plain": [
              "                                                 reviewId      userName  \\\n",
              "185628  gp:AOqpTOFRnWH9hxgt6bsawpDzCa9pCgNr9A_IkARRWur...   Lisa Khanya   \n",
              "307017  gp:AOqpTOE6-1pLSMvFE8yrNIekS_qRwf9PJrcfPugtBQk...    tiktok fyp   \n",
              "96025   gp:AOqpTOHv3XarlfQywI89jPo0G8nVrbVZogFYUgJjvwA...   Anne Holley   \n",
              "281881  gp:AOqpTOEkScVj_LpgmWwWeggQutvOPQwTKXjipIKc0V6...  Uzzal Hosain   \n",
              "162515  gp:AOqpTOHnxRTgw7OKhVo16YyZFgjeUxNI95PIeA_lHbX...   M Ayaz ktpr   \n",
              "\n",
              "                                                userImage  \\\n",
              "185628  https://play-lh.googleusercontent.com/a/AATXAJ...   \n",
              "307017  https://play-lh.googleusercontent.com/a/AATXAJ...   \n",
              "96025   https://play-lh.googleusercontent.com/a-/AOh14...   \n",
              "281881  https://play-lh.googleusercontent.com/a-/AOh14...   \n",
              "162515  https://play-lh.googleusercontent.com/a/AATXAJ...   \n",
              "\n",
              "                                                  content  score  \\\n",
              "185628                                          I like it      5   \n",
              "307017                                      Good.ap keep.      5   \n",
              "96025   This might sound super cliche and a bit contri...      5   \n",
              "281881                                               nice      1   \n",
              "162515  Yar mera Ticktot Account ap logo ne banned Kar...      5   \n",
              "\n",
              "        thumbsUpCount reviewCreatedVersion                   at replyContent  \\\n",
              "185628              0                  NaN  2022-02-19 07:23:58          NaN   \n",
              "307017              0                  NaN  2022-01-17 10:56:06          NaN   \n",
              "96025              29               23.6.4  2022-03-13 02:34:49          NaN   \n",
              "281881              0               22.9.5  2022-01-23 17:51:46          NaN   \n",
              "162515              0               23.4.3  2022-02-25 02:06:43          NaN   \n",
              "\n",
              "       repliedAt  \n",
              "185628       NaN  \n",
              "307017       NaN  \n",
              "96025        NaN  \n",
              "281881       NaN  \n",
              "162515       NaN  "
            ]
          },
          "execution_count": 19,
          "metadata": {},
          "output_type": "execute_result"
        }
      ],
      "source": [
        "# take five samples of data randomly\n",
        "df1.sample(5)"
      ]
    },
    {
      "cell_type": "code",
      "execution_count": null,
      "metadata": {
        "colab": {
          "base_uri": "https://localhost:8080/"
        },
        "id": "XwmFbMZZOTEf",
        "outputId": "7dde0a4d-10cd-4c45-8ed1-ba601e5a05a1"
      },
      "outputs": [
        {
          "data": {
            "text/plain": [
              "(307057, 10)"
            ]
          },
          "execution_count": 20,
          "metadata": {},
          "output_type": "execute_result"
        }
      ],
      "source": [
        "# get the number of rows and columns\n",
        "df1.shape"
      ]
    },
    {
      "cell_type": "markdown",
      "metadata": {
        "id": "-IBKdF2lOlN5"
      },
      "source": [
        "Dataset terdirdiri dari :\n",
        "- 10 Kolom\n",
        "- 307057 Baris"
      ]
    },
    {
      "cell_type": "code",
      "execution_count": null,
      "metadata": {
        "colab": {
          "base_uri": "https://localhost:8080/"
        },
        "id": "QARcmJwqOWzB",
        "outputId": "9ee94561-7481-4d93-c773-3f9ca47b05af"
      },
      "outputs": [
        {
          "data": {
            "text/plain": [
              "array(['reviewId', 'userName', 'userImage', 'content', 'score',\n",
              "       'thumbsUpCount', 'reviewCreatedVersion', 'at', 'replyContent',\n",
              "       'repliedAt'], dtype=object)"
            ]
          },
          "execution_count": 21,
          "metadata": {},
          "output_type": "execute_result"
        }
      ],
      "source": [
        "# displays the column names in the data\n",
        "df1.columns.values"
      ]
    },
    {
      "cell_type": "markdown",
      "metadata": {
        "id": "-ymgT45WPT32"
      },
      "source": [
        "Nama Kolom pada dataset:\n",
        "- reviewId\n",
        "- userName\n",
        "- userImage\n",
        "- content\n",
        "- score\n",
        "- thumbsUpCount\n",
        "- reviewCreatedVersion\n",
        "- at\n",
        "- replyContent\n",
        "- repliedAt"
      ]
    },
    {
      "cell_type": "code",
      "execution_count": null,
      "metadata": {
        "colab": {
          "base_uri": "https://localhost:8080/"
        },
        "id": "ixFxROYkPYnM",
        "outputId": "17ab2ea9-d84d-4b3a-f239-5dde91dd6a4a"
      },
      "outputs": [
        {
          "name": "stdout",
          "output_type": "stream",
          "text": [
            "<class 'pandas.core.frame.DataFrame'>\n",
            "RangeIndex: 307057 entries, 0 to 307056\n",
            "Data columns (total 10 columns):\n",
            " #   Column                Non-Null Count   Dtype \n",
            "---  ------                --------------   ----- \n",
            " 0   reviewId              307057 non-null  object\n",
            " 1   userName              307057 non-null  object\n",
            " 2   userImage             307057 non-null  object\n",
            " 3   content               307053 non-null  object\n",
            " 4   score                 307057 non-null  int64 \n",
            " 5   thumbsUpCount         307057 non-null  int64 \n",
            " 6   reviewCreatedVersion  217841 non-null  object\n",
            " 7   at                    307057 non-null  object\n",
            " 8   replyContent          119 non-null     object\n",
            " 9   repliedAt             119 non-null     object\n",
            "dtypes: int64(2), object(8)\n",
            "memory usage: 23.4+ MB\n"
          ]
        }
      ],
      "source": [
        "# prints information about the data\n",
        "df1.info()"
      ]
    },
    {
      "cell_type": "markdown",
      "metadata": {
        "id": "yNBx86OJPkaH"
      },
      "source": [
        "Informasi data yang diperoleh :\n",
        "- Tipe data pada dataset berupa tipe data objek dan integer\n",
        "- Tidak terdapat missing value"
      ]
    },
    {
      "cell_type": "code",
      "execution_count": null,
      "metadata": {
        "colab": {
          "base_uri": "https://localhost:8080/"
        },
        "id": "kWMl8guLP8Je",
        "outputId": "8cda053d-6747-4dcd-bb82-89efda2a47b1"
      },
      "outputs": [
        {
          "data": {
            "text/plain": [
              "reviewId                     0\n",
              "userName                     0\n",
              "userImage                    0\n",
              "content                      4\n",
              "score                        0\n",
              "thumbsUpCount                0\n",
              "reviewCreatedVersion     89216\n",
              "at                           0\n",
              "replyContent            306938\n",
              "repliedAt               306938\n",
              "dtype: int64"
            ]
          },
          "execution_count": 23,
          "metadata": {},
          "output_type": "execute_result"
        }
      ],
      "source": [
        "# counting the number of missing values in each column\n",
        "df1.isnull().sum()"
      ]
    },
    {
      "cell_type": "markdown",
      "metadata": {
        "id": "0SemxW49QLwh"
      },
      "source": [
        "Setelah ditampilkan terdapat missing value pada kolom:\n",
        "- content (4)\n",
        "- reviewCreatedVersion (89216)\n",
        "- replyContent (306938)\n",
        "- repliedAt (306938)"
      ]
    },
    {
      "cell_type": "code",
      "execution_count": null,
      "metadata": {
        "colab": {
          "base_uri": "https://localhost:8080/"
        },
        "id": "8yOdmdYtRycJ",
        "outputId": "8164c785-aa37-4299-d803-0772c094b5aa"
      },
      "outputs": [
        {
          "data": {
            "text/plain": [
              "reviewId                0.000000\n",
              "userName                0.000000\n",
              "userImage               0.000000\n",
              "content                 0.000013\n",
              "score                   0.000000\n",
              "thumbsUpCount           0.000000\n",
              "reviewCreatedVersion    0.290552\n",
              "at                      0.000000\n",
              "replyContent            0.999612\n",
              "repliedAt               0.999612\n",
              "dtype: float64"
            ]
          },
          "execution_count": 24,
          "metadata": {},
          "output_type": "execute_result"
        }
      ],
      "source": [
        "# displaying the missing values\n",
        "missing_value = df1.isnull().mean()\n",
        "missing_value"
      ]
    },
    {
      "cell_type": "code",
      "execution_count": null,
      "metadata": {
        "colab": {
          "base_uri": "https://localhost:8080/"
        },
        "id": "rbD1EY6WQOC3",
        "outputId": "28ce830d-1a19-4bd5-a284-202f755577e3"
      },
      "outputs": [
        {
          "name": "stdout",
          "output_type": "stream",
          "text": [
            "0         False\n",
            "1         False\n",
            "2         False\n",
            "3         False\n",
            "4         False\n",
            "          ...  \n",
            "307052    False\n",
            "307053    False\n",
            "307054    False\n",
            "307055    False\n",
            "307056    False\n",
            "Length: 307057, dtype: bool\n"
          ]
        }
      ],
      "source": [
        "# looking for duplicate data\n",
        "print(df1.duplicated())"
      ]
    },
    {
      "cell_type": "markdown",
      "metadata": {
        "id": "ULoomg9QRRxG"
      },
      "source": [
        "# Data Cleaning"
      ]
    },
    {
      "cell_type": "code",
      "execution_count": null,
      "metadata": {
        "id": "yCB0soOPRV1x"
      },
      "outputs": [],
      "source": [
        "# drop unnecessary columns\n",
        "df1.drop(['reviewId', 'userName', 'userImage', 'score', 'thumbsUpCount', 'reviewCreatedVersion', 'at', 'replyContent', 'repliedAt'], inplace=True, axis=1)"
      ]
    },
    {
      "cell_type": "code",
      "execution_count": null,
      "metadata": {
        "id": "7nB6A9_sRhvt"
      },
      "outputs": [],
      "source": [
        "# fix missing value\n",
        "df1 = df1.dropna(subset=['content'])"
      ]
    },
    {
      "cell_type": "code",
      "execution_count": null,
      "metadata": {
        "colab": {
          "base_uri": "https://localhost:8080/",
          "height": 206
        },
        "id": "OHPx5hWlSOFf",
        "outputId": "76cc5968-133d-453c-d2a4-54031bf3fa41"
      },
      "outputs": [
        {
          "data": {
            "text/html": [
              "\n",
              "  <div id=\"df-91257e0e-1149-47f4-9f14-fc397cc96e1d\">\n",
              "    <div class=\"colab-df-container\">\n",
              "      <div>\n",
              "<style scoped>\n",
              "    .dataframe tbody tr th:only-of-type {\n",
              "        vertical-align: middle;\n",
              "    }\n",
              "\n",
              "    .dataframe tbody tr th {\n",
              "        vertical-align: top;\n",
              "    }\n",
              "\n",
              "    .dataframe thead th {\n",
              "        text-align: right;\n",
              "    }\n",
              "</style>\n",
              "<table border=\"1\" class=\"dataframe\">\n",
              "  <thead>\n",
              "    <tr style=\"text-align: right;\">\n",
              "      <th></th>\n",
              "      <th>content</th>\n",
              "    </tr>\n",
              "  </thead>\n",
              "  <tbody>\n",
              "    <tr>\n",
              "      <th>0</th>\n",
              "      <td>Good</td>\n",
              "    </tr>\n",
              "    <tr>\n",
              "      <th>1</th>\n",
              "      <td>Awesome app! Too many people on it where it's ...</td>\n",
              "    </tr>\n",
              "    <tr>\n",
              "      <th>2</th>\n",
              "      <td>Not bad</td>\n",
              "    </tr>\n",
              "    <tr>\n",
              "      <th>3</th>\n",
              "      <td>It is good</td>\n",
              "    </tr>\n",
              "    <tr>\n",
              "      <th>4</th>\n",
              "      <td>Very interesting app</td>\n",
              "    </tr>\n",
              "  </tbody>\n",
              "</table>\n",
              "</div>\n",
              "      <button class=\"colab-df-convert\" onclick=\"convertToInteractive('df-91257e0e-1149-47f4-9f14-fc397cc96e1d')\"\n",
              "              title=\"Convert this dataframe to an interactive table.\"\n",
              "              style=\"display:none;\">\n",
              "        \n",
              "  <svg xmlns=\"http://www.w3.org/2000/svg\" height=\"24px\"viewBox=\"0 0 24 24\"\n",
              "       width=\"24px\">\n",
              "    <path d=\"M0 0h24v24H0V0z\" fill=\"none\"/>\n",
              "    <path d=\"M18.56 5.44l.94 2.06.94-2.06 2.06-.94-2.06-.94-.94-2.06-.94 2.06-2.06.94zm-11 1L8.5 8.5l.94-2.06 2.06-.94-2.06-.94L8.5 2.5l-.94 2.06-2.06.94zm10 10l.94 2.06.94-2.06 2.06-.94-2.06-.94-.94-2.06-.94 2.06-2.06.94z\"/><path d=\"M17.41 7.96l-1.37-1.37c-.4-.4-.92-.59-1.43-.59-.52 0-1.04.2-1.43.59L10.3 9.45l-7.72 7.72c-.78.78-.78 2.05 0 2.83L4 21.41c.39.39.9.59 1.41.59.51 0 1.02-.2 1.41-.59l7.78-7.78 2.81-2.81c.8-.78.8-2.07 0-2.86zM5.41 20L4 18.59l7.72-7.72 1.47 1.35L5.41 20z\"/>\n",
              "  </svg>\n",
              "      </button>\n",
              "      \n",
              "  <style>\n",
              "    .colab-df-container {\n",
              "      display:flex;\n",
              "      flex-wrap:wrap;\n",
              "      gap: 12px;\n",
              "    }\n",
              "\n",
              "    .colab-df-convert {\n",
              "      background-color: #E8F0FE;\n",
              "      border: none;\n",
              "      border-radius: 50%;\n",
              "      cursor: pointer;\n",
              "      display: none;\n",
              "      fill: #1967D2;\n",
              "      height: 32px;\n",
              "      padding: 0 0 0 0;\n",
              "      width: 32px;\n",
              "    }\n",
              "\n",
              "    .colab-df-convert:hover {\n",
              "      background-color: #E2EBFA;\n",
              "      box-shadow: 0px 1px 2px rgba(60, 64, 67, 0.3), 0px 1px 3px 1px rgba(60, 64, 67, 0.15);\n",
              "      fill: #174EA6;\n",
              "    }\n",
              "\n",
              "    [theme=dark] .colab-df-convert {\n",
              "      background-color: #3B4455;\n",
              "      fill: #D2E3FC;\n",
              "    }\n",
              "\n",
              "    [theme=dark] .colab-df-convert:hover {\n",
              "      background-color: #434B5C;\n",
              "      box-shadow: 0px 1px 3px 1px rgba(0, 0, 0, 0.15);\n",
              "      filter: drop-shadow(0px 1px 2px rgba(0, 0, 0, 0.3));\n",
              "      fill: #FFFFFF;\n",
              "    }\n",
              "  </style>\n",
              "\n",
              "      <script>\n",
              "        const buttonEl =\n",
              "          document.querySelector('#df-91257e0e-1149-47f4-9f14-fc397cc96e1d button.colab-df-convert');\n",
              "        buttonEl.style.display =\n",
              "          google.colab.kernel.accessAllowed ? 'block' : 'none';\n",
              "\n",
              "        async function convertToInteractive(key) {\n",
              "          const element = document.querySelector('#df-91257e0e-1149-47f4-9f14-fc397cc96e1d');\n",
              "          const dataTable =\n",
              "            await google.colab.kernel.invokeFunction('convertToInteractive',\n",
              "                                                     [key], {});\n",
              "          if (!dataTable) return;\n",
              "\n",
              "          const docLinkHtml = 'Like what you see? Visit the ' +\n",
              "            '<a target=\"_blank\" href=https://colab.research.google.com/notebooks/data_table.ipynb>data table notebook</a>'\n",
              "            + ' to learn more about interactive tables.';\n",
              "          element.innerHTML = '';\n",
              "          dataTable['output_type'] = 'display_data';\n",
              "          await google.colab.output.renderOutput(dataTable, element);\n",
              "          const docLink = document.createElement('div');\n",
              "          docLink.innerHTML = docLinkHtml;\n",
              "          element.appendChild(docLink);\n",
              "        }\n",
              "      </script>\n",
              "    </div>\n",
              "  </div>\n",
              "  "
            ],
            "text/plain": [
              "                                             content\n",
              "0                                               Good\n",
              "1  Awesome app! Too many people on it where it's ...\n",
              "2                                            Not bad\n",
              "3                                         It is good\n",
              "4                               Very interesting app"
            ]
          },
          "execution_count": 28,
          "metadata": {},
          "output_type": "execute_result"
        }
      ],
      "source": [
        "# show data after cleaning\n",
        "df1.head()"
      ]
    },
    {
      "cell_type": "code",
      "execution_count": null,
      "metadata": {
        "id": "6khtTC3fSZW1"
      },
      "outputs": [],
      "source": [
        "# change the content label to review\n",
        "df1 = df1.rename(columns={'content': 'review'})"
      ]
    },
    {
      "cell_type": "markdown",
      "metadata": {
        "id": "hNTDLUj8Slte"
      },
      "source": [
        "# Machine Learning"
      ]
    },
    {
      "cell_type": "code",
      "execution_count": null,
      "metadata": {
        "id": "euWPM7EKSki3"
      },
      "outputs": [],
      "source": [
        "# import the necessary libraries for model\n",
        "import nltk\n",
        "from nltk.sentiment import SentimentIntensityAnalyzer"
      ]
    },
    {
      "cell_type": "code",
      "execution_count": null,
      "metadata": {
        "id": "ddGfXxR8St5G"
      },
      "outputs": [],
      "source": [
        "def extract_sentiment(review):\n",
        "    \n",
        "    # Create an object of SentimentIntensityAnalyzer class\n",
        "    sia = SentimentIntensityAnalyzer()\n",
        "    \n",
        "    # Use the polarity_scores method to get the sentiment scores\n",
        "    sentiment = sia.polarity_scores(review)\n",
        "    \n",
        "    # Check the compound score, if it's greater than 0, return 'positive'\n",
        "    if sentiment['compound'] > 0:\n",
        "        return 'positive'\n",
        "    \n",
        "    # Check the compound score, if it's less than 0, return 'negative'\n",
        "    elif sentiment['compound'] < 0:\n",
        "        return 'negative'\n",
        "    \n",
        "    # If the compound score is 0, return 'neutral'\n",
        "    else:\n",
        "        return 'neutral'"
      ]
    },
    {
      "cell_type": "code",
      "execution_count": null,
      "metadata": {
        "colab": {
          "background_save": true
        },
        "id": "uKFulCekSx4b"
      },
      "outputs": [],
      "source": [
        "# Create a new column 'sentiment' in the dataframe and apply the extract_sentiment function to each review\n",
        "df1['sentiment'] = df1['review'].apply(extract_sentiment)"
      ]
    },
    {
      "cell_type": "code",
      "execution_count": null,
      "metadata": {
        "colab": {
          "background_save": true
        },
        "id": "nbPbENJjS3p1"
      },
      "outputs": [],
      "source": [
        "# Import train_test_split function from sklearn.model_selection\n",
        "from sklearn.model_selection import train_test_split\n",
        "\n",
        "# Assign the review column to the variable X and the sentiment column to the variable y\n",
        "X = df1['review']\n",
        "y = df1['sentiment']\n",
        "\n",
        "# Use the train_test_split function to split the data into training and testing sets\n",
        "# The test_size parameter is set to 0.2, meaning that 20% of the data will be used for testing\n",
        "# The random_state parameter is set to 42 for reproducibility\n",
        "X_train, X_test, y_train, y_test = train_test_split(X, y, test_size=0.2, random_state=42)"
      ]
    },
    {
      "cell_type": "code",
      "execution_count": null,
      "metadata": {
        "colab": {
          "background_save": true
        },
        "id": "qVWVNtn-S6O7",
        "outputId": "b4161389-ce4d-443e-cb6e-80d9d7829a2c"
      },
      "outputs": [
        {
          "data": {
            "text/plain": [
              "MultinomialNB()"
            ]
          },
          "execution_count": 34,
          "metadata": {},
          "output_type": "execute_result"
        }
      ],
      "source": [
        "# Import CountVectorizer from sklearn.feature_extraction.text\n",
        "from sklearn.feature_extraction.text import CountVectorizer\n",
        "\n",
        "# Create an object of CountVectorizer\n",
        "cv = CountVectorizer()\n",
        "# Use the fit_transform method to vectorize the text data in X_train\n",
        "X_train_vect = cv.fit_transform(X_train)\n",
        "\n",
        "# Import MultinomialNB from sklearn.naive_bayes\n",
        "from sklearn.naive_bayes import MultinomialNB\n",
        "\n",
        "# Create an object of MultinomialNB\n",
        "clf = MultinomialNB()\n",
        "# Use the fit method to fit the classifier with the training data\n",
        "clf.fit(X_train_vect, y_train)"
      ]
    },
    {
      "cell_type": "code",
      "execution_count": null,
      "metadata": {
        "colab": {
          "background_save": true
        },
        "id": "9Fp8_-QJS88P"
      },
      "outputs": [],
      "source": [
        "# Use the transform method to vectorize the text data in X_test\n",
        "X_test_vect = cv.transform(X_test)\n",
        "\n",
        "# Use the predict method to predict the sentiment of the reviews in X_test\n",
        "y_pred = clf.predict(X_test_vect)"
      ]
    },
    {
      "cell_type": "code",
      "execution_count": null,
      "metadata": {
        "colab": {
          "background_save": true
        },
        "id": "NejC2mLUS_ct",
        "outputId": "fa3adcec-2ca4-4d80-860a-dba1191da8a8"
      },
      "outputs": [
        {
          "name": "stdout",
          "output_type": "stream",
          "text": [
            "Accuracy: 0.79\n"
          ]
        }
      ],
      "source": [
        "# Import accuracy_score from sklearn.metrics\n",
        "from sklearn.metrics import accuracy_score\n",
        "\n",
        "# Use the accuracy_score function to calculate the accuracy of the model\n",
        "accuracy = accuracy_score(y_test, y_pred)\n",
        "\n",
        "# Print the accuracy of the model\n",
        "print(f\"Accuracy: {accuracy:.2f}\")"
      ]
    },
    {
      "cell_type": "code",
      "execution_count": null,
      "metadata": {
        "colab": {
          "background_save": true
        },
        "id": "VNGqIDW1WRhk"
      },
      "outputs": [],
      "source": [
        "# Create a list of new reviews\n",
        "new_review = [\"I love this app, it's so easy to use and has all the features I need.\"]\n",
        "\n",
        "# Use the transform method of the cv object to vectorize the new reviews\n",
        "new_review_vect = cv.transform(new_review)    "
      ]
    },
    {
      "cell_type": "code",
      "execution_count": null,
      "metadata": {
        "colab": {
          "background_save": true
        },
        "id": "i3MFJWNwWnXX",
        "outputId": "c2187a5c-92a6-49f5-8d8e-dac1af12afe0"
      },
      "outputs": [
        {
          "name": "stdout",
          "output_type": "stream",
          "text": [
            "['positive']\n"
          ]
        }
      ],
      "source": [
        "# Use the predict method of the clf object to predict the sentiment of the new review\n",
        "predicted_sentiment = clf.predict(new_review_vect)\n",
        "\n",
        "# Print the predicted sentiment\n",
        "print(predicted_sentiment)"
      ]
    },
    {
      "cell_type": "code",
      "execution_count": null,
      "metadata": {
        "colab": {
          "background_save": true
        },
        "id": "PdPnrYhHXJLs",
        "outputId": "aa6b90ec-3f57-4580-d218-be69ad61ee73"
      },
      "outputs": [
        {
          "name": "stdout",
          "output_type": "stream",
          "text": [
            "[[7.72646553e-05 4.07456216e-09 9.99922731e-01]]\n"
          ]
        }
      ],
      "source": [
        "# Use the predict_proba method of the clf object to predict the probability of each sentiment class for the new review\n",
        "predicted_sentiment_proba = clf.predict_proba(new_review_vect)\n",
        "# Print the predicted sentiment probability\n",
        "print(predicted_sentiment_proba)"
      ]
    },
    {
      "cell_type": "markdown",
      "metadata": {
        "id": "nIlTh7OJu4f1"
      },
      "source": [
        "## Calculate the percentage of positive, negative, and neutral sentiments"
      ]
    },
    {
      "cell_type": "code",
      "execution_count": null,
      "metadata": {
        "colab": {
          "background_save": true
        },
        "id": "yN4Kx5PTKGF2",
        "outputId": "65ba462c-26bd-4bcf-841a-41e3625a1c97"
      },
      "outputs": [
        {
          "name": "stdout",
          "output_type": "stream",
          "text": [
            "Percentage of Positive Sentiments: 65.05%\n",
            "Percentage of Negative Sentiments: 27.15%\n",
            "Percentage of Neutral Sentiments: 7.79%\n"
          ]
        }
      ],
      "source": [
        "sentiment_counts = df1['sentiment'].value_counts()\n",
        "sentiment_percentage = (sentiment_counts / len(df1['sentiment'])) * 100\n",
        "print(\"Percentage of Positive Sentiments: {:.2f}%\".format(sentiment_percentage[0]))\n",
        "print(\"Percentage of Negative Sentiments: {:.2f}%\".format(sentiment_percentage[1]))\n",
        "print(\"Percentage of Neutral Sentiments: {:.2f}%\".format(sentiment_percentage[2]))"
      ]
    },
    {
      "cell_type": "code",
      "source": [
        "# ploting the Calculate the percentage of positive, negative, and neutral sentiments\n",
        "import matplotlib.pyplot as plt\n",
        "\n",
        "sentiment_counts = df1['sentiment'].value_counts()\n",
        "sentiment_percentage = (sentiment_counts / len(df1['sentiment'])) * 100\n",
        "\n",
        "labels = ['Positive', 'Negative', 'Neutral']\n",
        "sizes = [sentiment_percentage[0], sentiment_percentage[1], sentiment_percentage[2]]\n",
        "\n",
        "fig1, ax1 = plt.subplots()\n",
        "ax1.pie(sizes, labels=labels, autopct='%1.1f%%', shadow=True, startangle=90)\n",
        "\n",
        "# Equal aspect ratio ensures that pie is drawn as a circle\n",
        "ax1.axis('equal')  \n",
        "\n",
        "plt.tight_layout()\n",
        "plt.show()"
      ],
      "metadata": {
        "colab": {
          "base_uri": "https://localhost:8080/",
          "height": 297
        },
        "id": "WG7770mjGBcQ",
        "outputId": "1b9d7f3b-38ea-4c9f-df10-6f6e2e32d61e"
      },
      "execution_count": 46,
      "outputs": [
        {
          "output_type": "display_data",
          "data": {
            "text/plain": [
              "<Figure size 432x288 with 1 Axes>"
            ],
            "image/png": "[encoded data removed]"
          },
          "metadata": {}
        }
      ]
    },
    {
      "cell_type": "markdown",
      "metadata": {
        "id": "nnI5c-HlyFar"
      },
      "source": [
        "## Model Evaluation"
      ]
    },
    {
      "cell_type": "code",
      "execution_count": null,
      "metadata": {
        "colab": {
          "background_save": true
        },
        "id": "keWGMF68yLeS"
      },
      "outputs": [],
      "source": [
        "# Import the accuracy_score and classification_report from sklearn.metrics\n",
        "from sklearn.metrics import accuracy_score, classification_report"
      ]
    },
    {
      "cell_type": "code",
      "execution_count": null,
      "metadata": {
        "colab": {
          "background_save": true
        },
        "id": "MtCeUcw1yUT3"
      },
      "outputs": [],
      "source": [
        "# Use the predict method to make predictions on the test data\n",
        "y_pred = clf.predict(X_test_vect)"
      ]
    },
    {
      "cell_type": "code",
      "execution_count": null,
      "metadata": {
        "colab": {
          "background_save": true
        },
        "id": "lPhX7Gd-yYjW",
        "outputId": "1ba255ed-dcd1-41aa-e356-37e9e4ec0029"
      },
      "outputs": [
        {
          "name": "stdout",
          "output_type": "stream",
          "text": [
            "Accuracy: 78.74%\n"
          ]
        }
      ],
      "source": [
        "# Use the accuracy_score function to calculate the accuracy of the model\n",
        "accuracy = accuracy_score(y_test, y_pred)\n",
        "print(\"Accuracy: {:.2f}%\".format(accuracy * 100))"
      ]
    },
    {
      "cell_type": "code",
      "execution_count": null,
      "metadata": {
        "colab": {
          "background_save": true
        },
        "id": "5VGre9vHyfL-",
        "outputId": "270324de-15ac-4af7-b004-f5c4848df050"
      },
      "outputs": [
        {
          "name": "stdout",
          "output_type": "stream",
          "text": [
            "Classification Report:\n",
            "              precision    recall  f1-score   support\n",
            "\n",
            "    negative       0.62      0.56      0.59      4705\n",
            "     neutral       0.95      0.42      0.58     16664\n",
            "    positive       0.78      0.97      0.86     40042\n",
            "\n",
            "    accuracy                           0.79     61411\n",
            "   macro avg       0.78      0.65      0.68     61411\n",
            "weighted avg       0.81      0.79      0.77     61411\n",
            "\n"
          ]
        }
      ],
      "source": [
        "#Use the classification_report function to print the classification report\n",
        "print(\"Classification Report:\")\n",
        "print(classification_report(y_test, y_pred))"
      ]
    },
    {
      "cell_type": "code",
      "source": [
        "import matplotlib.pyplot as plt\n",
        "import numpy as np\n",
        "\n",
        "labels = ['negative', 'neutral', 'positive']\n",
        "precision = [0.62, 0.95, 0.78]\n",
        "recall = [0.56, 0.42, 0.97]\n",
        "f1_score = [0.59, 0.58, 0.86]\n",
        "\n",
        "x = np.arange(len(labels))  # the label locations\n",
        "width = 0.25  # the width of the bars\n",
        "\n",
        "fig, ax = plt.subplots()\n",
        "rects1 = ax.bar(x - width, precision, width, label='Precision')\n",
        "rects2 = ax.bar(x, recall, width, label='Recall')\n",
        "rects3 = ax.bar(x + width, f1_score, width, label='F1-score')\n",
        "\n",
        "ax.set_ylabel('Scores')\n",
        "ax.set_title('Classification Report')\n",
        "ax.set_xticks(x)\n",
        "ax.set_xticklabels(labels)\n",
        "ax.legend()\n",
        "\n",
        "def autolabel(rects):\n",
        "    for rect in rects:\n",
        "        height = rect.get_height()\n",
        "        ax.annotate('{:.2f}'.format(height),\n",
        "                    xy=(rect.get_x() + rect.get_width() / 2, height),\n",
        "                    xytext=(0, 3),\n",
        "                    textcoords=\"offset points\",\n",
        "                    ha='center', va='bottom')\n",
        "\n",
        "autolabel(rects1)\n",
        "autolabel(rects2)\n",
        "autolabel(rects3)\n",
        "\n",
        "fig.tight_layout()\n",
        "\n",
        "plt.show()"
      ],
      "metadata": {
        "colab": {
          "base_uri": "https://localhost:8080/",
          "height": 297
        },
        "id": "0IpRNJIiHjQr",
        "outputId": "4cf12bd0-e3a7-4728-f924-088bb68eb1cc"
      },
      "execution_count": 47,
      "outputs": [
        {
          "output_type": "display_data",
          "data": {
            "text/plain": [
              "<Figure size 432x288 with 1 Axes>"
            ],
            "image/png": "[encoded data removed]"
          },
          "metadata": {
            "needs_background": "light"
          }
        }
      ]
    }
  ],
  "metadata": {
    "colab": {
      "provenance": []
    },
    "kernelspec": {
      "display_name": "Python 3",
      "name": "python3"
    },
    "language_info": {
      "name": "python"
    }
  },
  "nbformat": 4,
  "nbformat_minor": 0
}